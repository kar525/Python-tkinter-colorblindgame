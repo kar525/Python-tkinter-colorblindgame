{
 "cells": [
  {
   "cell_type": "markdown",
   "id": "b7707bf2",
   "metadata": {},
   "source": [
    "<h1>Color Blind Game</h1>"
   ]
  },
  {
   "cell_type": "code",
   "execution_count": 3,
   "id": "b5c7999b",
   "metadata": {},
   "outputs": [],
   "source": [
    "import random as rn\n",
    "import tkinter as tk\n",
    "from tkinter import messagebox\n",
    "from tkinter import font"
   ]
  },
  {
   "cell_type": "code",
   "execution_count": 4,
   "id": "8208d1e0",
   "metadata": {},
   "outputs": [],
   "source": [
    "class colorgame(tk.Frame):\n",
    "   C = 50\n",
    "   N1 = 205\n",
    "   Score = 0\n",
    "   def __init__(self, master=None):\n",
    "      super().__init__(master)\n",
    "      self.master = master\n",
    "      self.pack()\n",
    "      self.create_widgets()\n",
    "   def rgb_to_hex(self,r, g, b):\n",
    "      return '#{:02x}{:02x}{:02x}'.format(r, g, b)\n",
    "   def you_lose(self):\n",
    "      self.master.destroy()\n",
    "      messagebox.showerror(\"You lose\",\"Your score: \"+str(self.Score-1)) #messagebox\n",
    "      AA.config(state=tk.NORMAL)\n",
    "      BB.config(state=tk.NORMAL)\n",
    "   def create_widgets(self):\n",
    "      A = [rn.randrange(0,255),rn.randrange(0,255),rn.randrange(0,255)]\n",
    "      B = rn.randrange(1,9)\n",
    "      self.Score += 1\n",
    "      self.Scorelabel = tk.Label(self, text=\"Score: \"+str(self.Score-1),font = ('Helvetica', 17)) #Lebel\n",
    "      self.Scorelabel.grid(row = 13, column=2)\n",
    "      for i in range (1,10):\n",
    "         if i <= 3:\n",
    "            if i == B:\n",
    "               if A[1] <= self.N1:\n",
    "                  tk.Button(self,command=self.create_widgets,bg=self.rgb_to_hex(A[0],A[1]+self.C,A[2]),activebackground = self.rgb_to_hex(A[0],A[1]+self.C,A[2]),height=\"3\",width=\"6\").grid(row=1,column=i,padx = 20,pady = 20)\n",
    "               else:\n",
    "                  tk.Button(self,command=self.create_widgets,bg=self.rgb_to_hex(A[0],A[1]-self.C,A[2]),activebackground = self.rgb_to_hex(A[0],A[1]-self.C,A[2]),height=\"3\",width=\"6\").grid(row=1,column=i,padx = 20,pady = 20)\n",
    "            else:\n",
    "               tk.Button(self,command=self.you_lose,bg=self.rgb_to_hex(A[0],A[1],A[2]),activebackground = self.rgb_to_hex(A[0],A[1],A[2]),height=\"3\",width=\"6\").grid(row=1,column=i,padx = 20,pady = 20)\n",
    "         elif i <= 6:\n",
    "            if i == B:\n",
    "               if A[1] <= self.N1:\n",
    "                  tk.Button(self,command=self.create_widgets,bg=self.rgb_to_hex(A[0],A[1]+self.C,A[2]),activebackground = self.rgb_to_hex(A[0],A[1]+self.C,A[2]),height=\"3\",width=\"6\").grid(row=2,column=i-3,padx = 20,pady = 20)\n",
    "               else:\n",
    "                  tk.Button(self,command=self.create_widgets,bg=self.rgb_to_hex(A[0],A[1]-self.C,A[2]),activebackground = self.rgb_to_hex(A[0],A[1]-self.C,A[2]),height=\"3\",width=\"6\").grid(row=2,column=i-3,padx = 20,pady = 20)\n",
    "            else:\n",
    "               tk.Button(self,command=self.you_lose,bg=self.rgb_to_hex(A[0],A[1],A[2]),activebackground = self.rgb_to_hex(A[0],A[1],A[2]),height=\"3\",width=\"6\").grid(row=2,column=i-3,padx = 20,pady = 20)\n",
    "         else:\n",
    "            if i == B:\n",
    "               if A[1] <= self.N1:\n",
    "                  tk.Button(self,command=self.create_widgets,bg=self.rgb_to_hex(A[0],A[1]+self.C,A[2]),activebackground = self.rgb_to_hex(A[0],A[1]+self.C,A[2]),height=\"3\",width=\"6\").grid(row=3,column=i-6,padx = 20,pady = 20)\n",
    "               else:\n",
    "                  tk.Button(self,command=self.create_widgets,bg=self.rgb_to_hex(A[0],A[1]-self.C,A[2]),activebackground = self.rgb_to_hex(A[0],A[1]-self.C,A[2]),height=\"3\",width=\"6\").grid(row=3,column=i-6,padx = 20,pady = 20)\n",
    "            else:\n",
    "               tk.Button(self,command=self.you_lose,bg=self.rgb_to_hex(A[0],A[1],A[2]),activebackground = self.rgb_to_hex(A[0],A[1],A[2]),height=\"3\",width=\"6\").grid(row=3,column=i-6,padx = 20,pady = 20)\n",
    "         \n"
   ]
  },
  {
   "cell_type": "code",
   "execution_count": 5,
   "id": "6bc1aed1",
   "metadata": {},
   "outputs": [],
   "source": [
    "class normalcolorgame(colorgame):\n",
    "   C = 30\n",
    "   N1 = 225"
   ]
  },
  {
   "cell_type": "code",
   "execution_count": 6,
   "id": "2f314b2b",
   "metadata": {},
   "outputs": [],
   "source": [
    "class hardcolorgame(colorgame):\n",
    "   C = 10\n",
    "   N1 = 245"
   ]
  },
  {
   "cell_type": "code",
   "execution_count": 7,
   "id": "edc035d8",
   "metadata": {},
   "outputs": [],
   "source": [
    "gm = 1"
   ]
  },
  {
   "cell_type": "code",
   "execution_count": 8,
   "id": "12c1b53a",
   "metadata": {},
   "outputs": [],
   "source": [
    "def opengame():\n",
    "   def closebaseL():\n",
    "      base.destroy()\n",
    "      try:\n",
    "         L.destroy()\n",
    "      except:\n",
    "         print (\"Game close\")\n",
    "   def open():\n",
    "      def enable_button():\n",
    "         L.destroy()\n",
    "         AA.config(state=tk.NORMAL)  # เปิดการใช้งาน ปุ่ม Play และ game mode\n",
    "         BB.config(state=tk.NORMAL)\n",
    "      return enable_button()\n",
    "   base.protocol(\"WM_DELETE_WINDOW\", closebaseL)\n",
    "   AA.config(state=tk.DISABLED)\n",
    "   BB.config(state=tk.DISABLED)\n",
    "   L = tk.Tk()\n",
    "   L.geometry(\"350x450\")\n",
    "   L.protocol(\"WM_DELETE_WINDOW\",open)\n",
    "   if gm == 1:\n",
    "      L.title(\"Color Game: Easy mode\")\n",
    "      app = colorgame(master=L)\n",
    "      app.mainloop()\n",
    "   elif gm == 2:\n",
    "      L.title(\"Color Game: Normal mode\")\n",
    "      app = normalcolorgame(master=L)\n",
    "      app.mainloop()\n",
    "   else:\n",
    "      L.title(\"Color Game: Hard mode\")\n",
    "      app = hardcolorgame(master=L)\n",
    "      app.mainloop()\n",
    "\n"
   ]
  },
  {
   "cell_type": "code",
   "execution_count": 9,
   "id": "cc3db0ac",
   "metadata": {},
   "outputs": [],
   "source": [
    "def gamemode():\n",
    "   def easy():\n",
    "      global gm\n",
    "      gm = 1\n",
    "      return gm\n",
    "   def normal():\n",
    "      global gm\n",
    "      gm = 2\n",
    "      return gm\n",
    "   def hard():\n",
    "      global gm\n",
    "      gm = 3\n",
    "      return gm\n",
    "   def on_toplevel_close():\n",
    "      def enable_button():\n",
    "         Top1.destroy()  # ปิดtoplevel\n",
    "         AA.config(state=tk.NORMAL)  # เปิดการใช้งาน ปุ่ม Play และ game mode\n",
    "         BB.config(state=tk.NORMAL)\n",
    "      return enable_button\n",
    "   Top1 = tk.Toplevel(base) #Toplevel\n",
    "   Top1.title(\"Game mode\")\n",
    "   Top1.geometry(\"250x250\")\n",
    "   Top1.config(bg=\"#07D093\")\n",
    "\n",
    "   B1 = tk.Button(Top1, text=\"Easy\", command=easy,height=\"2\",width=\"9\")\n",
    "   B2 = tk.Button(Top1, text=\"Normal\", command=normal,height=\"2\",width=\"9\")\n",
    "   B3 = tk.Button(Top1, text=\"Hard\", command=hard,height=\"2\",width=\"9\")\n",
    "\n",
    "   B1.place(x=100, y=50)\n",
    "   B2.place(x=100, y=100)\n",
    "   B3.place(x=100, y=150)\n",
    "   AA.config(state=tk.DISABLED) #เมื่อเรียกใช้ฟังค์ชั่น gamemode ปิดการใช้งาน ปุ่ม Play และ game mode\n",
    "   BB.config(state=tk.DISABLED)\n",
    "   Top1.protocol(\"WM_DELETE_WINDOW\", on_toplevel_close()) #เมื่อปิด Top level เรียกฟังค์ชั่น on_toplevel_close\n"
   ]
  },
  {
   "cell_type": "code",
   "execution_count": 10,
   "id": "300a1bc1",
   "metadata": {},
   "outputs": [],
   "source": [
    "base = tk.Tk()\n"
   ]
  },
  {
   "cell_type": "code",
   "execution_count": 11,
   "id": "4f1ce8f6",
   "metadata": {
    "scrolled": true
   },
   "outputs": [
    {
     "data": {
      "text/plain": [
       "''"
      ]
     },
     "execution_count": 11,
     "metadata": {},
     "output_type": "execute_result"
    }
   ],
   "source": [
    "base.geometry(\"400x400\")"
   ]
  },
  {
   "cell_type": "code",
   "execution_count": 12,
   "id": "17d05759",
   "metadata": {},
   "outputs": [],
   "source": [
    "base.config(bg='#00ABFF')\n"
   ]
  },
  {
   "cell_type": "code",
   "execution_count": 13,
   "id": "6fee66c7",
   "metadata": {},
   "outputs": [],
   "source": [
    "AA = tk.Button(base,command=opengame,activebackground = \"yellow\",text=\"Play\",height=\"3\",width=\"12\") #Button"
   ]
  },
  {
   "cell_type": "code",
   "execution_count": 14,
   "id": "b3ac346f",
   "metadata": {},
   "outputs": [],
   "source": [
    "BB = tk.Button(base,command=gamemode,activebackground = \"yellow\",text=\"Game mode\",height=\"3\",width=\"12\")"
   ]
  },
  {
   "cell_type": "code",
   "execution_count": 22,
   "id": "d4116ff2",
   "metadata": {},
   "outputs": [
    {
     "name": "stdout",
     "output_type": "stream",
     "text": [
      "Image not found\n"
     ]
    }
   ],
   "source": [
    "try:\n",
    "   Cat1 = tk.PhotoImage(file=\"Bacat.png\")\n",
    "   Cat2 = tk.PhotoImage(file=\"Ocat.png\")\n",
    "   P1 = tk.Label(base,image=Cat1)\n",
    "   P2 = tk.Label(base,image=Cat2)\n",
    "   P1.config(bg=\"#00ABFF\")\n",
    "   P2.config(bg=\"#00ABFF\")\n",
    "   P1.place(x=0, y= 290)\n",
    "   P2.place(x=300, y= 0)\n",
    "except:\n",
    "   print(\"Image not found\") \n"
   ]
  },
  {
   "cell_type": "code",
   "execution_count": 23,
   "id": "7c4ddbbc",
   "metadata": {},
   "outputs": [
    {
     "ename": "TclError",
     "evalue": "can't invoke \"place\" command: application has been destroyed",
     "output_type": "error",
     "traceback": [
      "\u001b[1;31m---------------------------------------------------------------------------\u001b[0m",
      "\u001b[1;31mTclError\u001b[0m                                  Traceback (most recent call last)",
      "Cell \u001b[1;32mIn[23], line 1\u001b[0m\n\u001b[1;32m----> 1\u001b[0m AA\u001b[38;5;241m.\u001b[39mplace(x\u001b[38;5;241m=\u001b[39m\u001b[38;5;241m150\u001b[39m, y\u001b[38;5;241m=\u001b[39m\u001b[38;5;241m75\u001b[39m)\n",
      "File \u001b[1;32mD:\\New folder\\envs\\dads\\Lib\\tkinter\\__init__.py:2504\u001b[0m, in \u001b[0;36mPlace.place_configure\u001b[1;34m(self, cnf, **kw)\u001b[0m\n\u001b[0;32m   2482\u001b[0m \u001b[38;5;28;01mdef\u001b[39;00m \u001b[38;5;21mplace_configure\u001b[39m(\u001b[38;5;28mself\u001b[39m, cnf\u001b[38;5;241m=\u001b[39m{}, \u001b[38;5;241m*\u001b[39m\u001b[38;5;241m*\u001b[39mkw):\n\u001b[0;32m   2483\u001b[0m \u001b[38;5;250m    \u001b[39m\u001b[38;5;124;03m\"\"\"Place a widget in the parent widget. Use as options:\u001b[39;00m\n\u001b[0;32m   2484\u001b[0m \u001b[38;5;124;03m    in=master - master relative to which the widget is placed\u001b[39;00m\n\u001b[0;32m   2485\u001b[0m \u001b[38;5;124;03m    in_=master - see 'in' option description\u001b[39;00m\n\u001b[1;32m   (...)\u001b[0m\n\u001b[0;32m   2502\u001b[0m \u001b[38;5;124;03m                                       master widget into account\u001b[39;00m\n\u001b[0;32m   2503\u001b[0m \u001b[38;5;124;03m    \"\"\"\u001b[39;00m\n\u001b[1;32m-> 2504\u001b[0m     \u001b[38;5;28mself\u001b[39m\u001b[38;5;241m.\u001b[39mtk\u001b[38;5;241m.\u001b[39mcall(\n\u001b[0;32m   2505\u001b[0m           (\u001b[38;5;124m'\u001b[39m\u001b[38;5;124mplace\u001b[39m\u001b[38;5;124m'\u001b[39m, \u001b[38;5;124m'\u001b[39m\u001b[38;5;124mconfigure\u001b[39m\u001b[38;5;124m'\u001b[39m, \u001b[38;5;28mself\u001b[39m\u001b[38;5;241m.\u001b[39m_w)\n\u001b[0;32m   2506\u001b[0m           \u001b[38;5;241m+\u001b[39m \u001b[38;5;28mself\u001b[39m\u001b[38;5;241m.\u001b[39m_options(cnf, kw))\n",
      "\u001b[1;31mTclError\u001b[0m: can't invoke \"place\" command: application has been destroyed"
     ]
    }
   ],
   "source": [
    "AA.place(x=150, y=75)"
   ]
  },
  {
   "cell_type": "code",
   "execution_count": null,
   "id": "cbcd8a1f",
   "metadata": {},
   "outputs": [],
   "source": [
    "BB.place(x=150, y=175)"
   ]
  },
  {
   "cell_type": "code",
   "execution_count": 24,
   "id": "0f78cdf2",
   "metadata": {},
   "outputs": [
    {
     "ename": "TclError",
     "evalue": "can't invoke \"wm\" command: application has been destroyed",
     "output_type": "error",
     "traceback": [
      "\u001b[1;31m---------------------------------------------------------------------------\u001b[0m",
      "\u001b[1;31mTclError\u001b[0m                                  Traceback (most recent call last)",
      "Cell \u001b[1;32mIn[24], line 1\u001b[0m\n\u001b[1;32m----> 1\u001b[0m base\u001b[38;5;241m.\u001b[39mtitle(\u001b[38;5;124m\"\u001b[39m\u001b[38;5;124mMain\u001b[39m\u001b[38;5;124m\"\u001b[39m)\n",
      "File \u001b[1;32mD:\\New folder\\envs\\dads\\Lib\\tkinter\\__init__.py:2282\u001b[0m, in \u001b[0;36mWm.wm_title\u001b[1;34m(self, string)\u001b[0m\n\u001b[0;32m   2280\u001b[0m \u001b[38;5;28;01mdef\u001b[39;00m \u001b[38;5;21mwm_title\u001b[39m(\u001b[38;5;28mself\u001b[39m, string\u001b[38;5;241m=\u001b[39m\u001b[38;5;28;01mNone\u001b[39;00m):\n\u001b[0;32m   2281\u001b[0m \u001b[38;5;250m    \u001b[39m\u001b[38;5;124;03m\"\"\"Set the title of this widget.\"\"\"\u001b[39;00m\n\u001b[1;32m-> 2282\u001b[0m     \u001b[38;5;28;01mreturn\u001b[39;00m \u001b[38;5;28mself\u001b[39m\u001b[38;5;241m.\u001b[39mtk\u001b[38;5;241m.\u001b[39mcall(\u001b[38;5;124m'\u001b[39m\u001b[38;5;124mwm\u001b[39m\u001b[38;5;124m'\u001b[39m, \u001b[38;5;124m'\u001b[39m\u001b[38;5;124mtitle\u001b[39m\u001b[38;5;124m'\u001b[39m, \u001b[38;5;28mself\u001b[39m\u001b[38;5;241m.\u001b[39m_w, string)\n",
      "\u001b[1;31mTclError\u001b[0m: can't invoke \"wm\" command: application has been destroyed"
     ]
    }
   ],
   "source": [
    "base.title(\"Main\")"
   ]
  },
  {
   "cell_type": "code",
   "execution_count": 21,
   "id": "18153613",
   "metadata": {},
   "outputs": [],
   "source": [
    "base.mainloop()"
   ]
  },
  {
   "cell_type": "code",
   "execution_count": null,
   "id": "6e010826",
   "metadata": {},
   "outputs": [],
   "source": []
  }
 ],
 "metadata": {
  "kernelspec": {
   "display_name": "Python 3 (ipykernel)",
   "language": "python",
   "name": "python3"
  },
  "language_info": {
   "codemirror_mode": {
    "name": "ipython",
    "version": 3
   },
   "file_extension": ".py",
   "mimetype": "text/x-python",
   "name": "python",
   "nbconvert_exporter": "python",
   "pygments_lexer": "ipython3",
   "version": "3.11.7"
  }
 },
 "nbformat": 4,
 "nbformat_minor": 5
}
